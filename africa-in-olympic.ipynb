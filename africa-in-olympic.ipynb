{
 "cells": [
  {
   "cell_type": "code",
   "execution_count": 1,
   "id": "546383d9",
   "metadata": {
    "_cell_guid": "b1076dfc-b9ad-4769-8c92-a6c4dae69d19",
    "_uuid": "8f2839f25d086af736a60e9eeb907d3b93b6e0e5",
    "execution": {
     "iopub.execute_input": "2023-03-27T13:04:07.425073Z",
     "iopub.status.busy": "2023-03-27T13:04:07.424303Z",
     "iopub.status.idle": "2023-03-27T13:04:08.772490Z",
     "shell.execute_reply": "2023-03-27T13:04:08.770506Z"
    },
    "papermill": {
     "duration": 1.360895,
     "end_time": "2023-03-27T13:04:08.775892",
     "exception": false,
     "start_time": "2023-03-27T13:04:07.414997",
     "status": "completed"
    },
    "tags": []
   },
   "outputs": [
    {
     "name": "stdout",
     "output_type": "stream",
     "text": [
      "/kaggle/input/120-years-of-olympic-history-athletes-and-results/noc_regions.csv\n",
      "/kaggle/input/120-years-of-olympic-history-athletes-and-results/athlete_events.csv\n"
     ]
    }
   ],
   "source": [
    "# importing libraries\n",
    "import numpy as np\n",
    "import pandas as pd\n",
    "import matplotlib.pyplot as plt\n",
    "import seaborn as sns\n",
    "import os\n",
    "for dirname, _, filenames in os.walk('/kaggle/input'):\n",
    "    for filename in filenames:\n",
    "        print(os.path.join(dirname, filename))\n"
   ]
  },
  {
   "cell_type": "code",
   "execution_count": 2,
   "id": "e096cead",
   "metadata": {
    "execution": {
     "iopub.execute_input": "2023-03-27T13:04:08.791563Z",
     "iopub.status.busy": "2023-03-27T13:04:08.790335Z",
     "iopub.status.idle": "2023-03-27T13:04:10.170834Z",
     "shell.execute_reply": "2023-03-27T13:04:10.169479Z"
    },
    "papermill": {
     "duration": 1.391289,
     "end_time": "2023-03-27T13:04:10.173876",
     "exception": false,
     "start_time": "2023-03-27T13:04:08.782587",
     "status": "completed"
    },
    "tags": []
   },
   "outputs": [],
   "source": [
    "#  define data \n",
    "data = pd.read_csv('../input/120-years-of-olympic-history-athletes-and-results/athlete_events.csv')\n",
    "noc = pd.read_csv('../input/120-years-of-olympic-history-athletes-and-results/noc_regions.csv')"
   ]
  },
  {
   "cell_type": "code",
   "execution_count": 3,
   "id": "d9af9c99",
   "metadata": {
    "execution": {
     "iopub.execute_input": "2023-03-27T13:04:10.188768Z",
     "iopub.status.busy": "2023-03-27T13:04:10.187946Z",
     "iopub.status.idle": "2023-03-27T13:04:10.444288Z",
     "shell.execute_reply": "2023-03-27T13:04:10.442900Z"
    },
    "papermill": {
     "duration": 0.267133,
     "end_time": "2023-03-27T13:04:10.447478",
     "exception": false,
     "start_time": "2023-03-27T13:04:10.180345",
     "status": "completed"
    },
    "tags": []
   },
   "outputs": [],
   "source": [
    "# merge data \n",
    "df = pd.merge(data, noc, on='NOC', how='left')"
   ]
  },
  {
   "cell_type": "code",
   "execution_count": 4,
   "id": "f5416dca",
   "metadata": {
    "execution": {
     "iopub.execute_input": "2023-03-27T13:04:10.461803Z",
     "iopub.status.busy": "2023-03-27T13:04:10.461392Z",
     "iopub.status.idle": "2023-03-27T13:04:10.469183Z",
     "shell.execute_reply": "2023-03-27T13:04:10.467534Z"
    },
    "papermill": {
     "duration": 0.018245,
     "end_time": "2023-03-27T13:04:10.472068",
     "exception": false,
     "start_time": "2023-03-27T13:04:10.453823",
     "status": "completed"
    },
    "tags": []
   },
   "outputs": [],
   "source": [
    "# africa countries\n",
    "AFR=[\"ALG\",\"EGY\",\"LBA\",\"MAR\",\"SUD\",\"TUN\",\"BEN\",\"BUR\",\"CPV\",\"GAM\",\"GHA\",\"GUI\",\"GBS\",\"CIV\",\"LBR\",\"MLI\",\"MTN\",\"NIG\",\"NGR\",\"SEN\",\"SLE\",\"TOG\",\"CMR\",\"CAF\",\"STP\",\"GAB\",\"GEQ\",\"COD\",\"CGO\",\"CHA\",\"COM\",\"BOT\",\"ANG\",\"BDI\",\"DJI\",\"ERI\",\"ETH\",\"KEN\",\"RWA\",\"SEY\",\"SOM\",\"SSD\",\"TAN\",\"UGA\",\"SWZ\",\"LES\",\"MAD\",\"MAW\",\"MRI\",\"MOZ\",\"NAM\",\"RSA\",\"ZAM\",\"ZIM\"]"
   ]
  },
  {
   "cell_type": "code",
   "execution_count": 5,
   "id": "a61cce68",
   "metadata": {
    "execution": {
     "iopub.execute_input": "2023-03-27T13:04:10.487391Z",
     "iopub.status.busy": "2023-03-27T13:04:10.486349Z",
     "iopub.status.idle": "2023-03-27T13:04:10.656883Z",
     "shell.execute_reply": "2023-03-27T13:04:10.655491Z"
    },
    "papermill": {
     "duration": 0.181432,
     "end_time": "2023-03-27T13:04:10.660029",
     "exception": false,
     "start_time": "2023-03-27T13:04:10.478597",
     "status": "completed"
    },
    "tags": []
   },
   "outputs": [],
   "source": [
    "# data of africa\n",
    "df = df.loc[df.NOC.isin(AFR)].copy()"
   ]
  },
  {
   "cell_type": "code",
   "execution_count": 6,
   "id": "ceb3c815",
   "metadata": {
    "execution": {
     "iopub.execute_input": "2023-03-27T13:04:10.674330Z",
     "iopub.status.busy": "2023-03-27T13:04:10.673789Z",
     "iopub.status.idle": "2023-03-27T13:04:10.709484Z",
     "shell.execute_reply": "2023-03-27T13:04:10.708280Z"
    },
    "papermill": {
     "duration": 0.045861,
     "end_time": "2023-03-27T13:04:10.712211",
     "exception": false,
     "start_time": "2023-03-27T13:04:10.666350",
     "status": "completed"
    },
    "tags": []
   },
   "outputs": [
    {
     "data": {
      "text/html": [
       "<div>\n",
       "<style scoped>\n",
       "    .dataframe tbody tr th:only-of-type {\n",
       "        vertical-align: middle;\n",
       "    }\n",
       "\n",
       "    .dataframe tbody tr th {\n",
       "        vertical-align: top;\n",
       "    }\n",
       "\n",
       "    .dataframe thead th {\n",
       "        text-align: right;\n",
       "    }\n",
       "</style>\n",
       "<table border=\"1\" class=\"dataframe\">\n",
       "  <thead>\n",
       "    <tr style=\"text-align: right;\">\n",
       "      <th></th>\n",
       "      <th>ID</th>\n",
       "      <th>Name</th>\n",
       "      <th>Sex</th>\n",
       "      <th>Age</th>\n",
       "      <th>Height</th>\n",
       "      <th>Weight</th>\n",
       "      <th>Team</th>\n",
       "      <th>NOC</th>\n",
       "      <th>Games</th>\n",
       "      <th>Year</th>\n",
       "      <th>Season</th>\n",
       "      <th>City</th>\n",
       "      <th>Sport</th>\n",
       "      <th>Event</th>\n",
       "      <th>Medal</th>\n",
       "      <th>region</th>\n",
       "      <th>notes</th>\n",
       "    </tr>\n",
       "  </thead>\n",
       "  <tbody>\n",
       "    <tr>\n",
       "      <th>134</th>\n",
       "      <td>48</td>\n",
       "      <td>Abdelhak Aatakni</td>\n",
       "      <td>M</td>\n",
       "      <td>24.0</td>\n",
       "      <td>NaN</td>\n",
       "      <td>64.0</td>\n",
       "      <td>Morocco</td>\n",
       "      <td>MAR</td>\n",
       "      <td>2012 Summer</td>\n",
       "      <td>2012</td>\n",
       "      <td>Summer</td>\n",
       "      <td>London</td>\n",
       "      <td>Boxing</td>\n",
       "      <td>Boxing Men's Light-Welterweight</td>\n",
       "      <td>NaN</td>\n",
       "      <td>Morocco</td>\n",
       "      <td>NaN</td>\n",
       "    </tr>\n",
       "    <tr>\n",
       "      <th>146</th>\n",
       "      <td>53</td>\n",
       "      <td>Talaat Abada</td>\n",
       "      <td>M</td>\n",
       "      <td>24.0</td>\n",
       "      <td>172.0</td>\n",
       "      <td>58.0</td>\n",
       "      <td>Egypt</td>\n",
       "      <td>EGY</td>\n",
       "      <td>2000 Summer</td>\n",
       "      <td>2000</td>\n",
       "      <td>Summer</td>\n",
       "      <td>Sydney</td>\n",
       "      <td>Taekwondo</td>\n",
       "      <td>Taekwondo Men's Flyweight</td>\n",
       "      <td>NaN</td>\n",
       "      <td>Egypt</td>\n",
       "      <td>NaN</td>\n",
       "    </tr>\n",
       "    <tr>\n",
       "      <th>160</th>\n",
       "      <td>64</td>\n",
       "      <td>M'Bairo Abakar</td>\n",
       "      <td>M</td>\n",
       "      <td>31.0</td>\n",
       "      <td>NaN</td>\n",
       "      <td>NaN</td>\n",
       "      <td>Chad</td>\n",
       "      <td>CHA</td>\n",
       "      <td>1992 Summer</td>\n",
       "      <td>1992</td>\n",
       "      <td>Summer</td>\n",
       "      <td>Barcelona</td>\n",
       "      <td>Judo</td>\n",
       "      <td>Judo Men's Half-Middleweight</td>\n",
       "      <td>NaN</td>\n",
       "      <td>Chad</td>\n",
       "      <td>NaN</td>\n",
       "    </tr>\n",
       "    <tr>\n",
       "      <th>162</th>\n",
       "      <td>66</td>\n",
       "      <td>Mohamed Abakkar</td>\n",
       "      <td>M</td>\n",
       "      <td>NaN</td>\n",
       "      <td>156.0</td>\n",
       "      <td>48.0</td>\n",
       "      <td>Sudan</td>\n",
       "      <td>SUD</td>\n",
       "      <td>1972 Summer</td>\n",
       "      <td>1972</td>\n",
       "      <td>Summer</td>\n",
       "      <td>Munich</td>\n",
       "      <td>Boxing</td>\n",
       "      <td>Boxing Men's Flyweight</td>\n",
       "      <td>NaN</td>\n",
       "      <td>Sudan</td>\n",
       "      <td>NaN</td>\n",
       "    </tr>\n",
       "    <tr>\n",
       "      <th>178</th>\n",
       "      <td>76</td>\n",
       "      <td>Jouan Patrice Abanda Etong</td>\n",
       "      <td>M</td>\n",
       "      <td>22.0</td>\n",
       "      <td>185.0</td>\n",
       "      <td>82.0</td>\n",
       "      <td>Cameroon</td>\n",
       "      <td>CMR</td>\n",
       "      <td>2000 Summer</td>\n",
       "      <td>2000</td>\n",
       "      <td>Summer</td>\n",
       "      <td>Sydney</td>\n",
       "      <td>Football</td>\n",
       "      <td>Football Men's Football</td>\n",
       "      <td>Gold</td>\n",
       "      <td>Cameroon</td>\n",
       "      <td>NaN</td>\n",
       "    </tr>\n",
       "  </tbody>\n",
       "</table>\n",
       "</div>"
      ],
      "text/plain": [
       "     ID                        Name Sex   Age  Height  Weight      Team  NOC  \\\n",
       "134  48            Abdelhak Aatakni   M  24.0     NaN    64.0   Morocco  MAR   \n",
       "146  53                Talaat Abada   M  24.0   172.0    58.0     Egypt  EGY   \n",
       "160  64              M'Bairo Abakar   M  31.0     NaN     NaN      Chad  CHA   \n",
       "162  66             Mohamed Abakkar   M   NaN   156.0    48.0     Sudan  SUD   \n",
       "178  76  Jouan Patrice Abanda Etong   M  22.0   185.0    82.0  Cameroon  CMR   \n",
       "\n",
       "           Games  Year  Season       City      Sport  \\\n",
       "134  2012 Summer  2012  Summer     London     Boxing   \n",
       "146  2000 Summer  2000  Summer     Sydney  Taekwondo   \n",
       "160  1992 Summer  1992  Summer  Barcelona       Judo   \n",
       "162  1972 Summer  1972  Summer     Munich     Boxing   \n",
       "178  2000 Summer  2000  Summer     Sydney   Football   \n",
       "\n",
       "                               Event Medal    region notes  \n",
       "134  Boxing Men's Light-Welterweight   NaN   Morocco   NaN  \n",
       "146        Taekwondo Men's Flyweight   NaN     Egypt   NaN  \n",
       "160     Judo Men's Half-Middleweight   NaN      Chad   NaN  \n",
       "162           Boxing Men's Flyweight   NaN     Sudan   NaN  \n",
       "178          Football Men's Football  Gold  Cameroon   NaN  "
      ]
     },
     "execution_count": 6,
     "metadata": {},
     "output_type": "execute_result"
    }
   ],
   "source": [
    "# info of data\n",
    "df.head()"
   ]
  },
  {
   "cell_type": "code",
   "execution_count": 7,
   "id": "68ffcfe1",
   "metadata": {
    "execution": {
     "iopub.execute_input": "2023-03-27T13:04:10.727876Z",
     "iopub.status.busy": "2023-03-27T13:04:10.727454Z",
     "iopub.status.idle": "2023-03-27T13:04:10.734985Z",
     "shell.execute_reply": "2023-03-27T13:04:10.733817Z"
    },
    "papermill": {
     "duration": 0.018278,
     "end_time": "2023-03-27T13:04:10.737501",
     "exception": false,
     "start_time": "2023-03-27T13:04:10.719223",
     "status": "completed"
    },
    "tags": []
   },
   "outputs": [
    {
     "data": {
      "text/plain": [
       "(11980, 17)"
      ]
     },
     "execution_count": 7,
     "metadata": {},
     "output_type": "execute_result"
    }
   ],
   "source": [
    "df.shape"
   ]
  },
  {
   "cell_type": "code",
   "execution_count": 8,
   "id": "586d36cc",
   "metadata": {
    "execution": {
     "iopub.execute_input": "2023-03-27T13:04:10.753012Z",
     "iopub.status.busy": "2023-03-27T13:04:10.752577Z",
     "iopub.status.idle": "2023-03-27T13:04:10.760520Z",
     "shell.execute_reply": "2023-03-27T13:04:10.759020Z"
    },
    "papermill": {
     "duration": 0.018951,
     "end_time": "2023-03-27T13:04:10.763109",
     "exception": false,
     "start_time": "2023-03-27T13:04:10.744158",
     "status": "completed"
    },
    "tags": []
   },
   "outputs": [
    {
     "data": {
      "text/plain": [
       "Index(['ID', 'Name', 'Sex', 'Age', 'Height', 'Weight', 'Team', 'NOC', 'Games',\n",
       "       'Year', 'Season', 'City', 'Sport', 'Event', 'Medal', 'region', 'notes'],\n",
       "      dtype='object')"
      ]
     },
     "execution_count": 8,
     "metadata": {},
     "output_type": "execute_result"
    }
   ],
   "source": [
    "df.columns"
   ]
  },
  {
   "cell_type": "code",
   "execution_count": 9,
   "id": "7543678b",
   "metadata": {
    "execution": {
     "iopub.execute_input": "2023-03-27T13:04:10.778621Z",
     "iopub.status.busy": "2023-03-27T13:04:10.778217Z",
     "iopub.status.idle": "2023-03-27T13:04:10.810980Z",
     "shell.execute_reply": "2023-03-27T13:04:10.809420Z"
    },
    "papermill": {
     "duration": 0.043923,
     "end_time": "2023-03-27T13:04:10.814033",
     "exception": false,
     "start_time": "2023-03-27T13:04:10.770110",
     "status": "completed"
    },
    "tags": []
   },
   "outputs": [
    {
     "data": {
      "text/html": [
       "<div>\n",
       "<style scoped>\n",
       "    .dataframe tbody tr th:only-of-type {\n",
       "        vertical-align: middle;\n",
       "    }\n",
       "\n",
       "    .dataframe tbody tr th {\n",
       "        vertical-align: top;\n",
       "    }\n",
       "\n",
       "    .dataframe thead th {\n",
       "        text-align: right;\n",
       "    }\n",
       "</style>\n",
       "<table border=\"1\" class=\"dataframe\">\n",
       "  <thead>\n",
       "    <tr style=\"text-align: right;\">\n",
       "      <th></th>\n",
       "      <th>ID</th>\n",
       "      <th>Age</th>\n",
       "      <th>Height</th>\n",
       "      <th>Weight</th>\n",
       "      <th>Year</th>\n",
       "    </tr>\n",
       "  </thead>\n",
       "  <tbody>\n",
       "    <tr>\n",
       "      <th>count</th>\n",
       "      <td>11980.000000</td>\n",
       "      <td>11158.000000</td>\n",
       "      <td>9400.000000</td>\n",
       "      <td>9487.000000</td>\n",
       "      <td>11980.000000</td>\n",
       "    </tr>\n",
       "    <tr>\n",
       "      <th>mean</th>\n",
       "      <td>60558.761269</td>\n",
       "      <td>24.651999</td>\n",
       "      <td>174.870319</td>\n",
       "      <td>69.110520</td>\n",
       "      <td>1988.544908</td>\n",
       "    </tr>\n",
       "    <tr>\n",
       "      <th>std</th>\n",
       "      <td>39491.521674</td>\n",
       "      <td>5.046257</td>\n",
       "      <td>10.193306</td>\n",
       "      <td>13.652657</td>\n",
       "      <td>22.719997</td>\n",
       "    </tr>\n",
       "    <tr>\n",
       "      <th>min</th>\n",
       "      <td>48.000000</td>\n",
       "      <td>11.000000</td>\n",
       "      <td>127.000000</td>\n",
       "      <td>36.000000</td>\n",
       "      <td>1904.000000</td>\n",
       "    </tr>\n",
       "    <tr>\n",
       "      <th>25%</th>\n",
       "      <td>28152.000000</td>\n",
       "      <td>21.000000</td>\n",
       "      <td>168.000000</td>\n",
       "      <td>60.000000</td>\n",
       "      <td>1980.000000</td>\n",
       "    </tr>\n",
       "    <tr>\n",
       "      <th>50%</th>\n",
       "      <td>59669.500000</td>\n",
       "      <td>24.000000</td>\n",
       "      <td>175.000000</td>\n",
       "      <td>68.000000</td>\n",
       "      <td>1992.000000</td>\n",
       "    </tr>\n",
       "    <tr>\n",
       "      <th>75%</th>\n",
       "      <td>89219.250000</td>\n",
       "      <td>27.000000</td>\n",
       "      <td>181.250000</td>\n",
       "      <td>76.000000</td>\n",
       "      <td>2006.000000</td>\n",
       "    </tr>\n",
       "    <tr>\n",
       "      <th>max</th>\n",
       "      <td>135497.000000</td>\n",
       "      <td>59.000000</td>\n",
       "      <td>216.000000</td>\n",
       "      <td>163.000000</td>\n",
       "      <td>2016.000000</td>\n",
       "    </tr>\n",
       "  </tbody>\n",
       "</table>\n",
       "</div>"
      ],
      "text/plain": [
       "                  ID           Age       Height       Weight          Year\n",
       "count   11980.000000  11158.000000  9400.000000  9487.000000  11980.000000\n",
       "mean    60558.761269     24.651999   174.870319    69.110520   1988.544908\n",
       "std     39491.521674      5.046257    10.193306    13.652657     22.719997\n",
       "min        48.000000     11.000000   127.000000    36.000000   1904.000000\n",
       "25%     28152.000000     21.000000   168.000000    60.000000   1980.000000\n",
       "50%     59669.500000     24.000000   175.000000    68.000000   1992.000000\n",
       "75%     89219.250000     27.000000   181.250000    76.000000   2006.000000\n",
       "max    135497.000000     59.000000   216.000000   163.000000   2016.000000"
      ]
     },
     "execution_count": 9,
     "metadata": {},
     "output_type": "execute_result"
    }
   ],
   "source": [
    "df.describe()"
   ]
  },
  {
   "cell_type": "code",
   "execution_count": 10,
   "id": "7a002da5",
   "metadata": {
    "execution": {
     "iopub.execute_input": "2023-03-27T13:04:10.830862Z",
     "iopub.status.busy": "2023-03-27T13:04:10.829985Z",
     "iopub.status.idle": "2023-03-27T13:04:10.839606Z",
     "shell.execute_reply": "2023-03-27T13:04:10.838177Z"
    },
    "papermill": {
     "duration": 0.020448,
     "end_time": "2023-03-27T13:04:10.841954",
     "exception": false,
     "start_time": "2023-03-27T13:04:10.821506",
     "status": "completed"
    },
    "tags": []
   },
   "outputs": [
    {
     "data": {
      "text/plain": [
       "ID          int64\n",
       "Name       object\n",
       "Sex        object\n",
       "Age       float64\n",
       "Height    float64\n",
       "Weight    float64\n",
       "Team       object\n",
       "NOC        object\n",
       "Games      object\n",
       "Year        int64\n",
       "Season     object\n",
       "City       object\n",
       "Sport      object\n",
       "Event      object\n",
       "Medal      object\n",
       "region     object\n",
       "notes      object\n",
       "dtype: object"
      ]
     },
     "execution_count": 10,
     "metadata": {},
     "output_type": "execute_result"
    }
   ],
   "source": [
    "df.dtypes"
   ]
  },
  {
   "cell_type": "code",
   "execution_count": 11,
   "id": "0a395b17",
   "metadata": {
    "execution": {
     "iopub.execute_input": "2023-03-27T13:04:10.859069Z",
     "iopub.status.busy": "2023-03-27T13:04:10.858190Z",
     "iopub.status.idle": "2023-03-27T13:04:10.889740Z",
     "shell.execute_reply": "2023-03-27T13:04:10.888323Z"
    },
    "papermill": {
     "duration": 0.042795,
     "end_time": "2023-03-27T13:04:10.892317",
     "exception": false,
     "start_time": "2023-03-27T13:04:10.849522",
     "status": "completed"
    },
    "tags": []
   },
   "outputs": [
    {
     "data": {
      "text/plain": [
       "14"
      ]
     },
     "execution_count": 11,
     "metadata": {},
     "output_type": "execute_result"
    }
   ],
   "source": [
    "# clean data\n",
    "df.duplicated().sum()"
   ]
  },
  {
   "cell_type": "code",
   "execution_count": 12,
   "id": "42436dfa",
   "metadata": {
    "execution": {
     "iopub.execute_input": "2023-03-27T13:04:10.911647Z",
     "iopub.status.busy": "2023-03-27T13:04:10.909633Z",
     "iopub.status.idle": "2023-03-27T13:04:10.958892Z",
     "shell.execute_reply": "2023-03-27T13:04:10.957865Z"
    },
    "papermill": {
     "duration": 0.060634,
     "end_time": "2023-03-27T13:04:10.961538",
     "exception": false,
     "start_time": "2023-03-27T13:04:10.900904",
     "status": "completed"
    },
    "tags": []
   },
   "outputs": [
    {
     "data": {
      "text/plain": [
       "0"
      ]
     },
     "execution_count": 12,
     "metadata": {},
     "output_type": "execute_result"
    }
   ],
   "source": [
    "df.drop_duplicates(inplace=True)\n",
    "df.duplicated().sum()"
   ]
  },
  {
   "cell_type": "code",
   "execution_count": 13,
   "id": "816ca586",
   "metadata": {
    "execution": {
     "iopub.execute_input": "2023-03-27T13:04:10.978500Z",
     "iopub.status.busy": "2023-03-27T13:04:10.977742Z",
     "iopub.status.idle": "2023-03-27T13:04:10.995682Z",
     "shell.execute_reply": "2023-03-27T13:04:10.994188Z"
    },
    "papermill": {
     "duration": 0.029582,
     "end_time": "2023-03-27T13:04:10.998417",
     "exception": false,
     "start_time": "2023-03-27T13:04:10.968835",
     "status": "completed"
    },
    "tags": []
   },
   "outputs": [
    {
     "data": {
      "text/plain": [
       "ID            0\n",
       "Name          0\n",
       "Sex           0\n",
       "Age         811\n",
       "Height     2566\n",
       "Weight     2479\n",
       "Team          0\n",
       "NOC           0\n",
       "Games         0\n",
       "Year          0\n",
       "Season        0\n",
       "City          0\n",
       "Sport         0\n",
       "Event         0\n",
       "Medal     11398\n",
       "region        0\n",
       "notes     11966\n",
       "dtype: int64"
      ]
     },
     "execution_count": 13,
     "metadata": {},
     "output_type": "execute_result"
    }
   ],
   "source": [
    "df.isna().sum()"
   ]
  },
  {
   "cell_type": "code",
   "execution_count": 14,
   "id": "95824370",
   "metadata": {
    "execution": {
     "iopub.execute_input": "2023-03-27T13:04:11.015897Z",
     "iopub.status.busy": "2023-03-27T13:04:11.015064Z",
     "iopub.status.idle": "2023-03-27T13:04:11.026052Z",
     "shell.execute_reply": "2023-03-27T13:04:11.024848Z"
    },
    "papermill": {
     "duration": 0.022709,
     "end_time": "2023-03-27T13:04:11.028785",
     "exception": false,
     "start_time": "2023-03-27T13:04:11.006076",
     "status": "completed"
    },
    "tags": []
   },
   "outputs": [
    {
     "data": {
      "text/plain": [
       "798"
      ]
     },
     "execution_count": 14,
     "metadata": {},
     "output_type": "execute_result"
    }
   ],
   "source": [
    "# age is important in sport, 811 athlete has no age, 798 didn't get medal, 13 did\n",
    "sum(df[df['Age'].isna()] ['Medal'].isna())"
   ]
  },
  {
   "cell_type": "code",
   "execution_count": 15,
   "id": "c71565a6",
   "metadata": {
    "execution": {
     "iopub.execute_input": "2023-03-27T13:04:11.046937Z",
     "iopub.status.busy": "2023-03-27T13:04:11.046169Z",
     "iopub.status.idle": "2023-03-27T13:04:11.258665Z",
     "shell.execute_reply": "2023-03-27T13:04:11.257464Z"
    },
    "papermill": {
     "duration": 0.225811,
     "end_time": "2023-03-27T13:04:11.262639",
     "exception": false,
     "start_time": "2023-03-27T13:04:11.036828",
     "status": "completed"
    },
    "tags": []
   },
   "outputs": [
    {
     "data": {
      "text/plain": [
       "(-1.1058934881854414,\n",
       " 1.149909752561447,\n",
       " -1.1091085772430263,\n",
       " 1.1809525726553631)"
      ]
     },
     "execution_count": 15,
     "metadata": {},
     "output_type": "execute_result"
    },
    {
     "data": {
      "image/png": "[encoded data removed]",
      "text/plain": [
       "<Figure size 640x480 with 1 Axes>"
      ]
     },
     "metadata": {},
     "output_type": "display_data"
    }
   ],
   "source": [
    "Sex=['Male','Female']\n",
    "cnt=[11966-2644,2644]\n",
    "explode=(0,0.1)\n",
    "plt.pie(x=cnt, labels=Sex, explode=explode,autopct='%1.1f%%', startangle=90, shadow=True, colors=['#5A7FDD','#FD78F0'])\n",
    "plt.title(\"Gender Distribution\")\n",
    "plt.axis('equal')"
   ]
  },
  {
   "cell_type": "code",
   "execution_count": 16,
   "id": "5d613279",
   "metadata": {
    "execution": {
     "iopub.execute_input": "2023-03-27T13:04:11.300744Z",
     "iopub.status.busy": "2023-03-27T13:04:11.300332Z",
     "iopub.status.idle": "2023-03-27T13:04:11.309011Z",
     "shell.execute_reply": "2023-03-27T13:04:11.307707Z"
    },
    "papermill": {
     "duration": 0.027485,
     "end_time": "2023-03-27T13:04:11.311937",
     "exception": false,
     "start_time": "2023-03-27T13:04:11.284452",
     "status": "completed"
    },
    "tags": []
   },
   "outputs": [],
   "source": [
    "# medals data \n",
    "med = df[~(df.Medal.isna())].copy()"
   ]
  },
  {
   "cell_type": "code",
   "execution_count": 17,
   "id": "2d0ae852",
   "metadata": {
    "execution": {
     "iopub.execute_input": "2023-03-27T13:04:11.330051Z",
     "iopub.status.busy": "2023-03-27T13:04:11.329645Z",
     "iopub.status.idle": "2023-03-27T13:04:11.337150Z",
     "shell.execute_reply": "2023-03-27T13:04:11.335756Z"
    },
    "papermill": {
     "duration": 0.019803,
     "end_time": "2023-03-27T13:04:11.339996",
     "exception": false,
     "start_time": "2023-03-27T13:04:11.320193",
     "status": "completed"
    },
    "tags": []
   },
   "outputs": [
    {
     "data": {
      "text/plain": [
       "(568, 17)"
      ]
     },
     "execution_count": 17,
     "metadata": {},
     "output_type": "execute_result"
    }
   ],
   "source": [
    "med.shape\n",
    "# 568 athlete got medals"
   ]
  },
  {
   "cell_type": "code",
   "execution_count": 18,
   "id": "0a525d20",
   "metadata": {
    "execution": {
     "iopub.execute_input": "2023-03-27T13:04:11.359731Z",
     "iopub.status.busy": "2023-03-27T13:04:11.359329Z",
     "iopub.status.idle": "2023-03-27T13:04:11.390101Z",
     "shell.execute_reply": "2023-03-27T13:04:11.388870Z"
    },
    "papermill": {
     "duration": 0.044308,
     "end_time": "2023-03-27T13:04:11.393009",
     "exception": false,
     "start_time": "2023-03-27T13:04:11.348701",
     "status": "completed"
    },
    "tags": []
   },
   "outputs": [
    {
     "data": {
      "text/html": [
       "<div>\n",
       "<style scoped>\n",
       "    .dataframe tbody tr th:only-of-type {\n",
       "        vertical-align: middle;\n",
       "    }\n",
       "\n",
       "    .dataframe tbody tr th {\n",
       "        vertical-align: top;\n",
       "    }\n",
       "\n",
       "    .dataframe thead th {\n",
       "        text-align: right;\n",
       "    }\n",
       "</style>\n",
       "<table border=\"1\" class=\"dataframe\">\n",
       "  <thead>\n",
       "    <tr style=\"text-align: right;\">\n",
       "      <th></th>\n",
       "      <th>ID</th>\n",
       "      <th>Age</th>\n",
       "      <th>Height</th>\n",
       "      <th>Weight</th>\n",
       "      <th>Year</th>\n",
       "    </tr>\n",
       "  </thead>\n",
       "  <tbody>\n",
       "    <tr>\n",
       "      <th>count</th>\n",
       "      <td>568.000000</td>\n",
       "      <td>555.000000</td>\n",
       "      <td>465.000000</td>\n",
       "      <td>470.000000</td>\n",
       "      <td>568.000000</td>\n",
       "    </tr>\n",
       "    <tr>\n",
       "      <th>mean</th>\n",
       "      <td>64105.281690</td>\n",
       "      <td>24.036036</td>\n",
       "      <td>174.466667</td>\n",
       "      <td>66.719149</td>\n",
       "      <td>1988.450704</td>\n",
       "    </tr>\n",
       "    <tr>\n",
       "      <th>std</th>\n",
       "      <td>40272.899277</td>\n",
       "      <td>4.410211</td>\n",
       "      <td>10.049204</td>\n",
       "      <td>13.508343</td>\n",
       "      <td>27.383378</td>\n",
       "    </tr>\n",
       "    <tr>\n",
       "      <th>min</th>\n",
       "      <td>76.000000</td>\n",
       "      <td>15.000000</td>\n",
       "      <td>138.000000</td>\n",
       "      <td>40.000000</td>\n",
       "      <td>1908.000000</td>\n",
       "    </tr>\n",
       "    <tr>\n",
       "      <th>25%</th>\n",
       "      <td>28313.000000</td>\n",
       "      <td>21.000000</td>\n",
       "      <td>168.000000</td>\n",
       "      <td>57.000000</td>\n",
       "      <td>1980.000000</td>\n",
       "    </tr>\n",
       "    <tr>\n",
       "      <th>50%</th>\n",
       "      <td>61878.500000</td>\n",
       "      <td>23.000000</td>\n",
       "      <td>175.000000</td>\n",
       "      <td>65.000000</td>\n",
       "      <td>1996.000000</td>\n",
       "    </tr>\n",
       "    <tr>\n",
       "      <th>75%</th>\n",
       "      <td>98969.250000</td>\n",
       "      <td>27.000000</td>\n",
       "      <td>181.000000</td>\n",
       "      <td>76.000000</td>\n",
       "      <td>2008.000000</td>\n",
       "    </tr>\n",
       "    <tr>\n",
       "      <th>max</th>\n",
       "      <td>133979.000000</td>\n",
       "      <td>42.000000</td>\n",
       "      <td>207.000000</td>\n",
       "      <td>140.000000</td>\n",
       "      <td>2016.000000</td>\n",
       "    </tr>\n",
       "  </tbody>\n",
       "</table>\n",
       "</div>"
      ],
      "text/plain": [
       "                  ID         Age      Height      Weight         Year\n",
       "count     568.000000  555.000000  465.000000  470.000000   568.000000\n",
       "mean    64105.281690   24.036036  174.466667   66.719149  1988.450704\n",
       "std     40272.899277    4.410211   10.049204   13.508343    27.383378\n",
       "min        76.000000   15.000000  138.000000   40.000000  1908.000000\n",
       "25%     28313.000000   21.000000  168.000000   57.000000  1980.000000\n",
       "50%     61878.500000   23.000000  175.000000   65.000000  1996.000000\n",
       "75%     98969.250000   27.000000  181.000000   76.000000  2008.000000\n",
       "max    133979.000000   42.000000  207.000000  140.000000  2016.000000"
      ]
     },
     "execution_count": 18,
     "metadata": {},
     "output_type": "execute_result"
    }
   ],
   "source": [
    "med.describe()"
   ]
  },
  {
   "cell_type": "code",
   "execution_count": 19,
   "id": "bbc12878",
   "metadata": {
    "execution": {
     "iopub.execute_input": "2023-03-27T13:04:11.412115Z",
     "iopub.status.busy": "2023-03-27T13:04:11.411692Z",
     "iopub.status.idle": "2023-03-27T13:04:11.582230Z",
     "shell.execute_reply": "2023-03-27T13:04:11.580467Z"
    },
    "papermill": {
     "duration": 0.185207,
     "end_time": "2023-03-27T13:04:11.586868",
     "exception": false,
     "start_time": "2023-03-27T13:04:11.401661",
     "status": "completed"
    },
    "tags": []
   },
   "outputs": [
    {
     "data": {
      "text/plain": [
       "(-1.113600394710183,\n",
       " 1.1135406256634237,\n",
       " -1.1045774525440974,\n",
       " 1.1002180048135393)"
      ]
     },
     "execution_count": 19,
     "metadata": {},
     "output_type": "execute_result"
    },
    {
     "data": {
      "image/png": "[encoded data removed]",
      "text/plain": [
       "<Figure size 640x480 with 1 Axes>"
      ]
     },
     "metadata": {},
     "output_type": "display_data"
    }
   ],
   "source": [
    "# medal distribution\n",
    "medal=['Gold','Bronze','Silver']\n",
    "cnt=[174,224,170]\n",
    "plt.pie(x=cnt, labels=medal, autopct='%1.1f%%', startangle=90, shadow=True, colors=['#D5D90B','#CA7007','0.7'])\n",
    "plt.title(\"Medals Distribution\")\n",
    "plt.axis('equal')"
   ]
  },
  {
   "cell_type": "code",
   "execution_count": 20,
   "id": "ae185708",
   "metadata": {
    "execution": {
     "iopub.execute_input": "2023-03-27T13:04:11.630857Z",
     "iopub.status.busy": "2023-03-27T13:04:11.629965Z",
     "iopub.status.idle": "2023-03-27T13:04:11.985817Z",
     "shell.execute_reply": "2023-03-27T13:04:11.984886Z"
    },
    "papermill": {
     "duration": 0.377938,
     "end_time": "2023-03-27T13:04:11.988360",
     "exception": false,
     "start_time": "2023-03-27T13:04:11.610422",
     "status": "completed"
    },
    "tags": []
   },
   "outputs": [
    {
     "data": {
      "text/plain": [
       "Text(0, 0.5, 'country')"
      ]
     },
     "execution_count": 20,
     "metadata": {},
     "output_type": "execute_result"
    },
    {
     "data": {
      "image/png": "[encoded data removed]",
      "text/plain": [
       "<Figure size 640x480 with 1 Axes>"
      ]
     },
     "metadata": {},
     "output_type": "display_data"
    }
   ],
   "source": [
    "# top 15 countries\n",
    "ax = med['region'].value_counts().head(15).plot(kind='barh', title='Top 15 countries')\n",
    "ax.set_xlabel('count')\n",
    "ax.set_ylabel('country')"
   ]
  },
  {
   "cell_type": "code",
   "execution_count": 21,
   "id": "728be5dd",
   "metadata": {
    "execution": {
     "iopub.execute_input": "2023-03-27T13:04:12.011119Z",
     "iopub.status.busy": "2023-03-27T13:04:12.010467Z",
     "iopub.status.idle": "2023-03-27T13:04:12.484486Z",
     "shell.execute_reply": "2023-03-27T13:04:12.483245Z"
    },
    "papermill": {
     "duration": 0.488736,
     "end_time": "2023-03-27T13:04:12.487445",
     "exception": false,
     "start_time": "2023-03-27T13:04:11.998709",
     "status": "completed"
    },
    "tags": []
   },
   "outputs": [
    {
     "data": {
      "text/plain": [
       "Text(0.5, 1.0, 'Medals per Year')"
      ]
     },
     "execution_count": 21,
     "metadata": {},
     "output_type": "execute_result"
    },
    {
     "data": {
      "image/png": "[encoded data removed]",
      "text/plain": [
       "<Figure size 2000x1000 with 1 Axes>"
      ]
     },
     "metadata": {},
     "output_type": "display_data"
    }
   ],
   "source": [
    "# medals per year\n",
    "plt.figure(figsize=(20, 10))\n",
    "sns.countplot(x='Year', data=med)\n",
    "plt.style.use('seaborn')\n",
    "plt.title('Medals per Year')"
   ]
  },
  {
   "cell_type": "code",
   "execution_count": 22,
   "id": "9fcbd885",
   "metadata": {
    "execution": {
     "iopub.execute_input": "2023-03-27T13:04:12.511383Z",
     "iopub.status.busy": "2023-03-27T13:04:12.510883Z",
     "iopub.status.idle": "2023-03-27T13:04:13.037996Z",
     "shell.execute_reply": "2023-03-27T13:04:13.036460Z"
    },
    "papermill": {
     "duration": 0.543062,
     "end_time": "2023-03-27T13:04:13.041247",
     "exception": false,
     "start_time": "2023-03-27T13:04:12.498185",
     "status": "completed"
    },
    "tags": []
   },
   "outputs": [
    {
     "data": {
      "text/plain": [
       "Text(0.5, 1.0, 'Medals per Age')"
      ]
     },
     "execution_count": 22,
     "metadata": {},
     "output_type": "execute_result"
    },
    {
     "data": {
      "image/png": "[encoded data removed]",
      "text/plain": [
       "<Figure size 2000x1500 with 1 Axes>"
      ]
     },
     "metadata": {},
     "output_type": "display_data"
    }
   ],
   "source": [
    "# medals per age\n",
    "plt.figure(figsize=(20, 15))\n",
    "sns.countplot(x='Age', data=med)\n",
    "plt.style.use('seaborn')\n",
    "plt.title('Medals per Age')"
   ]
  },
  {
   "cell_type": "code",
   "execution_count": 23,
   "id": "a3f4b088",
   "metadata": {
    "execution": {
     "iopub.execute_input": "2023-03-27T13:04:13.066450Z",
     "iopub.status.busy": "2023-03-27T13:04:13.066017Z",
     "iopub.status.idle": "2023-03-27T13:04:13.255215Z",
     "shell.execute_reply": "2023-03-27T13:04:13.253349Z"
    },
    "papermill": {
     "duration": 0.206976,
     "end_time": "2023-03-27T13:04:13.260136",
     "exception": false,
     "start_time": "2023-03-27T13:04:13.053160",
     "status": "completed"
    },
    "tags": []
   },
   "outputs": [
    {
     "data": {
      "text/plain": [
       "(-1.1063682942883544,\n",
       " 1.1535988182456312,\n",
       " -1.1092048353543373,\n",
       " 1.180400165769683)"
      ]
     },
     "execution_count": 23,
     "metadata": {},
     "output_type": "execute_result"
    },
    {
     "data": {
      "image/png": "[encoded data removed]",
      "text/plain": [
       "<Figure size 800x550 with 1 Axes>"
      ]
     },
     "metadata": {},
     "output_type": "display_data"
    }
   ],
   "source": [
    "# medal per gender\n",
    "Sex=['Male','Female']\n",
    "cnt=[441,127]\n",
    "explode=(0,0.1)\n",
    "plt.pie(x=cnt, labels=Sex, explode=explode,autopct='%1.1f%%', startangle=90, shadow=True, colors=['#5A7FDD','#FD78F0'])\n",
    "plt.title(\"Medals per gender\")\n",
    "plt.axis('equal')"
   ]
  },
  {
   "cell_type": "code",
   "execution_count": null,
   "id": "09a8f37e",
   "metadata": {
    "papermill": {
     "duration": 0.011833,
     "end_time": "2023-03-27T13:04:13.300793",
     "exception": false,
     "start_time": "2023-03-27T13:04:13.288960",
     "status": "completed"
    },
    "tags": []
   },
   "outputs": [],
   "source": []
  }
 ],
 "metadata": {
  "kernelspec": {
   "display_name": "Python 3",
   "language": "python",
   "name": "python3"
  },
  "language_info": {
   "codemirror_mode": {
    "name": "ipython",
    "version": 3
   },
   "file_extension": ".py",
   "mimetype": "text/x-python",
   "name": "python",
   "nbconvert_exporter": "python",
   "pygments_lexer": "ipython3",
   "version": "3.7.12"
  },
  "papermill": {
   "default_parameters": {},
   "duration": 17.673263,
   "end_time": "2023-03-27T13:04:14.135956",
   "environment_variables": {},
   "exception": null,
   "input_path": "__notebook__.ipynb",
   "output_path": "__notebook__.ipynb",
   "parameters": {},
   "start_time": "2023-03-27T13:03:56.462693",
   "version": "2.4.0"
  }
 },
 "nbformat": 4,
 "nbformat_minor": 5
}
